{
 "cells": [
  {
   "cell_type": "markdown",
   "metadata": {},
   "source": [
    "# Introduction to Python\n",
    "\n",
    "In this chapter, you will start testing your python by <br>\n",
    "1. printing basic operations,\n",
    "2. defining different variable types,\n",
    "3. looking into lists of objects,\n",
    "4. making decisions with conditions,\n",
    "5. iterating with for loops and\n",
    "6. defining some basic functions.\n"
   ]
  },
  {
   "cell_type": "markdown",
   "metadata": {},
   "source": [
    "## 1. Basic Syntax"
   ]
  },
  {
   "cell_type": "code",
   "execution_count": 1,
   "metadata": {},
   "outputs": [],
   "source": [
    "#a = 2\n",
    "#b = 1\n",
    "\n",
    "a, b, c = 2, 3., \"Hello World!\""
   ]
  },
  {
   "cell_type": "code",
   "execution_count": 2,
   "metadata": {},
   "outputs": [
    {
     "name": "stdout",
     "output_type": "stream",
     "text": [
      "2 3.0 Hello World!\n",
      "2\n"
     ]
    }
   ],
   "source": [
    "print(a, b, c)\n",
    "\n",
    "print(a)"
   ]
  },
  {
   "cell_type": "code",
   "execution_count": 3,
   "metadata": {},
   "outputs": [
    {
     "name": "stdout",
     "output_type": "stream",
     "text": [
      "Hello World!\n"
     ]
    }
   ],
   "source": [
    "print(\"Hello World!\")"
   ]
  },
  {
   "cell_type": "code",
   "execution_count": 4,
   "metadata": {},
   "outputs": [
    {
     "name": "stdout",
     "output_type": "stream",
     "text": [
      "9.0\n"
     ]
    }
   ],
   "source": [
    "print(3.*3)"
   ]
  },
  {
   "cell_type": "code",
   "execution_count": 5,
   "metadata": {},
   "outputs": [
    {
     "name": "stdout",
     "output_type": "stream",
     "text": [
      "27\n"
     ]
    }
   ],
   "source": [
    "print(3**3)"
   ]
  },
  {
   "cell_type": "code",
   "execution_count": 6,
   "metadata": {},
   "outputs": [
    {
     "name": "stdout",
     "output_type": "stream",
     "text": [
      "4.0\n"
     ]
    }
   ],
   "source": [
    "print(2+2.)"
   ]
  },
  {
   "cell_type": "markdown",
   "metadata": {
    "collapsed": true
   },
   "source": [
    "You can find more examples at [LearnPython](http://www.learnpython.org) & [PythonTutorial](https://www.tutorialspoint.com/python/)."
   ]
  },
  {
   "cell_type": "markdown",
   "metadata": {},
   "source": [
    "## 2. Variable Types\n",
    "You are automatically defining a variable type while initializing the variable such as"
   ]
  },
  {
   "cell_type": "code",
   "execution_count": 7,
   "metadata": {},
   "outputs": [],
   "source": [
    "myint = 7\n",
    "myfloat1 = 7.0; myfloat2 = float(7)"
   ]
  },
  {
   "cell_type": "markdown",
   "metadata": {},
   "source": [
    "You may separate commands using \";\""
   ]
  },
  {
   "cell_type": "code",
   "execution_count": 8,
   "metadata": {},
   "outputs": [
    {
     "name": "stdout",
     "output_type": "stream",
     "text": [
      "3.5\n",
      "3.5\n",
      "14.0\n",
      "49.0\n"
     ]
    }
   ],
   "source": [
    "print(myint/2); print(myfloat1/2); print(myfloat2*2); print(myfloat2**2)"
   ]
  },
  {
   "cell_type": "code",
   "execution_count": 9,
   "metadata": {},
   "outputs": [
    {
     "data": {
      "text/plain": [
       "['In',\n",
       " 'Out',\n",
       " '_',\n",
       " '__',\n",
       " '___',\n",
       " '__builtin__',\n",
       " '__builtins__',\n",
       " '__doc__',\n",
       " '__loader__',\n",
       " '__name__',\n",
       " '__package__',\n",
       " '__spec__',\n",
       " '_dh',\n",
       " '_i',\n",
       " '_i1',\n",
       " '_i2',\n",
       " '_i3',\n",
       " '_i4',\n",
       " '_i5',\n",
       " '_i6',\n",
       " '_i7',\n",
       " '_i8',\n",
       " '_i9',\n",
       " '_ih',\n",
       " '_ii',\n",
       " '_iii',\n",
       " '_oh',\n",
       " 'a',\n",
       " 'b',\n",
       " 'c',\n",
       " 'exit',\n",
       " 'get_ipython',\n",
       " 'myfloat1',\n",
       " 'myfloat2',\n",
       " 'myint',\n",
       " 'quit']"
      ]
     },
     "execution_count": 9,
     "metadata": {},
     "output_type": "execute_result"
    }
   ],
   "source": [
    "dir()"
   ]
  },
  {
   "cell_type": "code",
   "execution_count": 10,
   "metadata": {},
   "outputs": [],
   "source": [
    "del myfloat1"
   ]
  },
  {
   "cell_type": "code",
   "execution_count": 11,
   "metadata": {},
   "outputs": [
    {
     "data": {
      "text/plain": [
       "['In',\n",
       " 'Out',\n",
       " '_',\n",
       " '_9',\n",
       " '__',\n",
       " '___',\n",
       " '__builtin__',\n",
       " '__builtins__',\n",
       " '__doc__',\n",
       " '__loader__',\n",
       " '__name__',\n",
       " '__package__',\n",
       " '__spec__',\n",
       " '_dh',\n",
       " '_i',\n",
       " '_i1',\n",
       " '_i10',\n",
       " '_i11',\n",
       " '_i2',\n",
       " '_i3',\n",
       " '_i4',\n",
       " '_i5',\n",
       " '_i6',\n",
       " '_i7',\n",
       " '_i8',\n",
       " '_i9',\n",
       " '_ih',\n",
       " '_ii',\n",
       " '_iii',\n",
       " '_oh',\n",
       " 'a',\n",
       " 'b',\n",
       " 'c',\n",
       " 'exit',\n",
       " 'get_ipython',\n",
       " 'myfloat2',\n",
       " 'myint',\n",
       " 'quit']"
      ]
     },
     "execution_count": 11,
     "metadata": {},
     "output_type": "execute_result"
    }
   ],
   "source": [
    "dir()"
   ]
  },
  {
   "cell_type": "markdown",
   "metadata": {},
   "source": [
    "## 3. Lists\n",
    "\n",
    "List a special case of array, except they can include variables with different types. You can easily append, delete, merge, different lists. You can even exchange the index number with a string as a name. List is one of the most useful objects in Python. In most of our exercises we use numpy arrays but it is always handy to know how to handle lists."
   ]
  },
  {
   "cell_type": "markdown",
   "metadata": {},
   "source": [
    "Index in list starts from zero (0) unlike R. \n",
    "A string is actually a list. \n",
    "-1 shows the end of the list but the last. \n",
    "Range of indices is like [start, end[ so you do not get access to the last element."
   ]
  },
  {
   "cell_type": "code",
   "execution_count": 12,
   "metadata": {},
   "outputs": [
    {
     "name": "stdout",
     "output_type": "stream",
     "text": [
      "[1, 2, 3.0]\n"
     ]
    }
   ],
   "source": [
    "mylist = [1, 2, 3.]\n",
    "print(mylist)\n"
   ]
  },
  {
   "cell_type": "code",
   "execution_count": 13,
   "metadata": {},
   "outputs": [
    {
     "name": "stdout",
     "output_type": "stream",
     "text": [
      "1\n"
     ]
    }
   ],
   "source": [
    "print(mylist[0])"
   ]
  },
  {
   "cell_type": "markdown",
   "metadata": {},
   "source": [
    "Here is a simple example that shows how a list is different with an array.\n"
   ]
  },
  {
   "cell_type": "code",
   "execution_count": 14,
   "metadata": {},
   "outputs": [],
   "source": [
    "mylist = [1, 2, 3, \"2\", \"Hello World\", [1, 2, 3] ]"
   ]
  },
  {
   "cell_type": "code",
   "execution_count": 15,
   "metadata": {},
   "outputs": [
    {
     "name": "stdout",
     "output_type": "stream",
     "text": [
      "[1, 2, 3]\n"
     ]
    }
   ],
   "source": [
    "print(mylist[-1])"
   ]
  },
  {
   "cell_type": "code",
   "execution_count": 16,
   "metadata": {},
   "outputs": [
    {
     "data": {
      "text/plain": [
       "9"
      ]
     },
     "execution_count": 16,
     "metadata": {},
     "output_type": "execute_result"
    }
   ],
   "source": [
    "mylist[2]*3"
   ]
  },
  {
   "cell_type": "markdown",
   "metadata": {},
   "source": [
    "\n",
    "**Exercise** <br>\n",
    "\n",
    "Make two lists. First, a list of 4 of your best friends' first name.\n",
    "\n",
    "Second, a list of their family name. Then print their first name and last name.\n",
    "\n",
    "\n",
    "\n",
    "\n",
    "\n",
    "\n",
    "\n",
    "\n",
    "\n",
    "\n",
    "\n",
    "\n"
   ]
  },
  {
   "cell_type": "code",
   "execution_count": 17,
   "metadata": {},
   "outputs": [],
   "source": [
    "firstname= [\"John\",\"Bruno\", \"Alan\", \"Ali\"]\n",
    "lastname=[\"Smith\", \"Agard\", \"Turing\", \"Bendavid\"]"
   ]
  },
  {
   "cell_type": "code",
   "execution_count": 18,
   "metadata": {},
   "outputs": [
    {
     "name": "stdout",
     "output_type": "stream",
     "text": [
      "['John', 'Bruno', 'Alan', 'Ali']\n"
     ]
    }
   ],
   "source": [
    "print(firstname)"
   ]
  },
  {
   "cell_type": "code",
   "execution_count": 19,
   "metadata": {},
   "outputs": [
    {
     "name": "stdout",
     "output_type": "stream",
     "text": [
      "['Smith', 'Agard', 'Turing', 'Bendavid']\n"
     ]
    }
   ],
   "source": [
    "print(lastname) "
   ]
  },
  {
   "cell_type": "markdown",
   "metadata": {},
   "source": [
    "You may insert several other elements to the list using \"append\", \"insert\", \"index\" and several others. See below for for more details\n",
    "\n",
    "```python\n",
    "list.append(x)\n",
    "```\n",
    "Add an item to the end of the list; equivalent to a[len(a):] = [x].\n",
    "\n",
    "```python\n",
    "list.extend(L)\n",
    "```\n",
    "Extend the list by appending all the items in the given list; equivalent to a[len(a):] = L.\n",
    "\n",
    "```python\n",
    "list.insert(i, x)\n",
    "```\n",
    "Insert an item at a given position. The first argument is the index of the element before which to insert, so a.insert(0, x) inserts at the front of the list, and a.insert(len(a), x) is equivalent to a.append(x).\n",
    "\n",
    "```python\n",
    "list.remove(x)\n",
    "```\n",
    "Remove the first item from the list whose value is x. It is an error if there is no such item.\n",
    "\n",
    "```python\n",
    "list.pop([i])\n",
    "```\n",
    "Remove the item at the given position in the list, and return it. If no index is specified, a.pop() removes and returns the last item in the list. (The square brackets around the i in the method signature denote that the parameter is optional, not that you should type square brackets at that position. You will see this notation frequently in the Python Library Reference.)\n",
    "\n",
    "```python\n",
    "list.index(x)\n",
    "```\n",
    "Return the index in the list of the first item whose value is x. It is an error if there is no such item.\n",
    "\n",
    "```python\n",
    "list.count(x)\n",
    "```\n",
    "Return the number of times x appears in the list.\n",
    "\n",
    "```python\n",
    "list.sort(cmp=None, key=None, reverse=False)\n",
    "```\n",
    "Sort the items of the list in place (the arguments can be used for sort customization, see sorted() for their explanation).\n",
    "\n",
    "```python\n",
    "list.reverse()\n",
    "```\n",
    "\n",
    "Reverse the elements of the list, in place."
   ]
  },
  {
   "cell_type": "markdown",
   "metadata": {},
   "source": [
    "## 4. Conditions \n",
    "Python uses boolean variables to evaluate conditions. Tab separates different code blocks, therefore there is no need for brackets.\n"
   ]
  },
  {
   "cell_type": "code",
   "execution_count": 20,
   "metadata": {},
   "outputs": [
    {
     "name": "stdout",
     "output_type": "stream",
     "text": [
      "True\n",
      "False\n",
      "True\n"
     ]
    }
   ],
   "source": [
    "x = 2\n",
    "print(x == 2) \n",
    "print( x<2 )\n",
    "print( not x<2 )"
   ]
  },
  {
   "cell_type": "code",
   "execution_count": 21,
   "metadata": {},
   "outputs": [
    {
     "name": "stdout",
     "output_type": "stream",
     "text": [
      "1\n"
     ]
    }
   ],
   "source": [
    "print( (x == 2)*(x > 1) )"
   ]
  },
  {
   "cell_type": "code",
   "execution_count": 22,
   "metadata": {},
   "outputs": [
    {
     "name": "stdout",
     "output_type": "stream",
     "text": [
      "yeah  a equals to one\n"
     ]
    }
   ],
   "source": [
    "a=1\n",
    "if a==1:\n",
    "    print( \"yeah  a equals to one\" )\n",
    "else:\n",
    "    print( \"nop a differs from one\" )"
   ]
  },
  {
   "cell_type": "code",
   "execution_count": 23,
   "metadata": {},
   "outputs": [
    {
     "name": "stdout",
     "output_type": "stream",
     "text": [
      "x equals to two\n"
     ]
    }
   ],
   "source": [
    "if x==2:\n",
    "    print( \"x equals to two\" )\n",
    "else:\n",
    "    print( \"print x differs from two\" )"
   ]
  },
  {
   "cell_type": "markdown",
   "metadata": {},
   "source": [
    "### Lines and Indentation \n",
    "\n",
    "Python provides no braces to indicate blocks of code for class and function definitions or flow control. Blocks of code are denoted by line indentation, which is rigidly enforced.\n",
    "\n",
    "The number of spaces in the indentation is variable, but all statements within the block must be indented the same amount. Acommon practice is tab or double space for each block."
   ]
  },
  {
   "cell_type": "markdown",
   "metadata": {},
   "source": [
    "## 5. For Loop\n",
    "The \"for\" loops iterate over a given sequence. <br>\n",
    "The \"range\" function is a very useful command in loops."
   ]
  },
  {
   "cell_type": "code",
   "execution_count": 24,
   "metadata": {},
   "outputs": [
    {
     "name": "stdout",
     "output_type": "stream",
     "text": [
      "range(0, 10)\n",
      "range(2, 6)\n",
      "range(2, 14, 4)\n"
     ]
    }
   ],
   "source": [
    "print( range(10) )\n",
    "print( range(2,6) )\n",
    "print( range(2,14,4) )"
   ]
  },
  {
   "cell_type": "code",
   "execution_count": 25,
   "metadata": {},
   "outputs": [
    {
     "name": "stdout",
     "output_type": "stream",
     "text": [
      "range(0, 4)\n",
      "John\n",
      "Bruno\n",
      "Alan\n",
      "Ali\n"
     ]
    }
   ],
   "source": [
    "print( range(len(firstname)))\n",
    "\n",
    "for i in range(len(firstname)):\n",
    "    print( firstname[i] )"
   ]
  },
  {
   "cell_type": "markdown",
   "metadata": {},
   "source": [
    "### hidden counter\n",
    "You can use a hidden counter as well."
   ]
  },
  {
   "cell_type": "code",
   "execution_count": 26,
   "metadata": {},
   "outputs": [
    {
     "name": "stdout",
     "output_type": "stream",
     "text": [
      "John\n",
      "Bruno\n",
      "Alan\n",
      "Ali\n"
     ]
    }
   ],
   "source": [
    "for name in firstname:\n",
    "    print( name )"
   ]
  },
  {
   "cell_type": "markdown",
   "metadata": {},
   "source": [
    "**Exercise** <br>\n",
    "Create a new list in the form of \"firstname_lastname\" of your 5 friends."
   ]
  },
  {
   "cell_type": "code",
   "execution_count": 27,
   "metadata": {},
   "outputs": [
    {
     "name": "stdout",
     "output_type": "stream",
     "text": [
      "['', '', '', '']\n",
      "['John_Smith', 'Bruno_Agard', 'Alan_Turing', 'Ali_Bendavid']\n"
     ]
    }
   ],
   "source": [
    "# initialize\n",
    "first_last=[\"\"]*len(firstname)\n",
    "print(first_last)\n",
    "\n",
    "# attach using for loop\n",
    "for i in range(len(firstname)):\n",
    "    first_last[i]=firstname[i]+\"_\"+lastname[i]\n",
    "\n",
    "print(first_last)"
   ]
  },
  {
   "cell_type": "markdown",
   "metadata": {},
   "source": [
    "## 6. Function definition\n",
    "The \"def\" command, can be used to define a function."
   ]
  },
  {
   "cell_type": "code",
   "execution_count": 28,
   "metadata": {},
   "outputs": [],
   "source": [
    "def sq(x):\n",
    "  return x**2"
   ]
  },
  {
   "cell_type": "code",
   "execution_count": 29,
   "metadata": {
    "scrolled": true
   },
   "outputs": [
    {
     "name": "stdout",
     "output_type": "stream",
     "text": [
      "5625\n"
     ]
    }
   ],
   "source": [
    "print( sq(75) )"
   ]
  },
  {
   "cell_type": "markdown",
   "metadata": {},
   "source": [
    "**Exercise ** <br>\n",
    "Define a function that gives the square of a list elements.\n"
   ]
  },
  {
   "cell_type": "code",
   "execution_count": 30,
   "metadata": {},
   "outputs": [],
   "source": [
    "def sqlist1(X):\n",
    "    return [sq(x) for x in X]"
   ]
  },
  {
   "cell_type": "code",
   "execution_count": 31,
   "metadata": {},
   "outputs": [
    {
     "data": {
      "text/plain": [
       "[0, 1, 4, 9, 16, 25]"
      ]
     },
     "execution_count": 31,
     "metadata": {},
     "output_type": "execute_result"
    }
   ],
   "source": [
    "sqlist1(range(6))"
   ]
  },
  {
   "cell_type": "code",
   "execution_count": 32,
   "metadata": {},
   "outputs": [],
   "source": [
    "def sqlist2(X):\n",
    "    Y=[0]*len(X)\n",
    "    for i in range(len(X)): \n",
    "        Y[i]=sq(X[i])\n",
    "    return Y"
   ]
  },
  {
   "cell_type": "code",
   "execution_count": 33,
   "metadata": {},
   "outputs": [
    {
     "data": {
      "text/plain": [
       "[0, 1, 4, 9, 16, 25]"
      ]
     },
     "execution_count": 33,
     "metadata": {},
     "output_type": "execute_result"
    }
   ],
   "source": [
    "sqlist2(range(6))"
   ]
  }
 ],
 "metadata": {
  "kernelspec": {
   "display_name": "Python 3",
   "language": "python",
   "name": "python3"
  },
  "language_info": {
   "codemirror_mode": {
    "name": "ipython",
    "version": 3
   },
   "file_extension": ".py",
   "mimetype": "text/x-python",
   "name": "python",
   "nbconvert_exporter": "python",
   "pygments_lexer": "ipython3",
   "version": "3.7.0"
  }
 },
 "nbformat": 4,
 "nbformat_minor": 1
}
